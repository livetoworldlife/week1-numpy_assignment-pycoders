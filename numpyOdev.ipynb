{
 "nbformat": 4,
 "nbformat_minor": 2,
 "metadata": {
  "language_info": {
   "name": "python",
   "codemirror_mode": {
    "name": "ipython",
    "version": 3
   },
   "version": "2.7.16-final"
  },
  "orig_nbformat": 2,
  "file_extension": ".py",
  "mimetype": "text/x-python",
  "name": "python",
  "npconvert_exporter": "python",
  "pygments_lexer": "ipython3",
  "version": 3,
  "kernelspec": {
   "name": "python38164bit1dba9a0565b5420da67a532c5434da6d",
   "display_name": "Python 3.8.1 64-bit"
  }
 },
 "cells": [
  {
   "cell_type": "code",
   "execution_count": null,
   "metadata": {},
   "outputs": [],
   "source": [
    "# 1-matris; numpyda satir ve sutunlardan olusan tek ya da cok boyutlu arraylere matris denir. Eger bir matris tek siradan olusuyorsa buna vektor adi verilir."
   ]
  },
  {
   "cell_type": "code",
   "execution_count": 2,
   "metadata": {},
   "outputs": [
    {
     "output_type": "execute_result",
     "data": {
      "text/plain": "array([1, 2, 3, 4, 5, 6, 7, 8, 9, 0])"
     },
     "metadata": {},
     "execution_count": 2
    }
   ],
   "source": [
    "# 2-10 elemanli bir listeden NumPy Array’i olusturunuz.\n",
    "import numpy as np \n",
    "list_a=[1,2,3,4,5,6,7,8,9,0]\n",
    "array_a=np.array(list_a)\n",
    "array_a"
   ]
  },
  {
   "cell_type": "code",
   "execution_count": 3,
   "metadata": {},
   "outputs": [
    {
     "output_type": "execute_result",
     "data": {
      "text/plain": "array([[0, 0, 0, 0, 0, 0, 0, 0, 0, 0],\n       [0, 0, 0, 0, 0, 0, 0, 0, 0, 0],\n       [0, 0, 0, 0, 0, 0, 0, 0, 0, 0],\n       [0, 0, 0, 0, 0, 0, 0, 0, 0, 0],\n       [0, 0, 0, 0, 0, 0, 0, 0, 0, 0],\n       [0, 0, 0, 0, 0, 0, 0, 0, 0, 0],\n       [0, 0, 0, 0, 0, 0, 0, 0, 0, 0],\n       [0, 0, 0, 0, 0, 0, 0, 0, 0, 0],\n       [0, 0, 0, 0, 0, 0, 0, 0, 0, 0],\n       [0, 0, 0, 0, 0, 0, 0, 0, 0, 0]], dtype=int32)"
     },
     "metadata": {},
     "execution_count": 3
    }
   ],
   "source": [
    "# 3-Icerisinde ‘0’ lar olan, ve veri tipi integer olan 10X10’luk bir matris olusturunuz.\n",
    "a =np.zeros((10,10),dtype=\"int32\")\n",
    "a\n",
    ""
   ]
  },
  {
   "cell_type": "code",
   "execution_count": 4,
   "metadata": {},
   "outputs": [
    {
     "output_type": "execute_result",
     "data": {
      "text/plain": "array([[1., 1., 1., 1., 1., 1., 1., 1., 1., 1.],\n       [1., 1., 1., 1., 1., 1., 1., 1., 1., 1.],\n       [1., 1., 1., 1., 1., 1., 1., 1., 1., 1.],\n       [1., 1., 1., 1., 1., 1., 1., 1., 1., 1.],\n       [1., 1., 1., 1., 1., 1., 1., 1., 1., 1.],\n       [1., 1., 1., 1., 1., 1., 1., 1., 1., 1.],\n       [1., 1., 1., 1., 1., 1., 1., 1., 1., 1.],\n       [1., 1., 1., 1., 1., 1., 1., 1., 1., 1.],\n       [1., 1., 1., 1., 1., 1., 1., 1., 1., 1.],\n       [1., 1., 1., 1., 1., 1., 1., 1., 1., 1.]])"
     },
     "metadata": {},
     "execution_count": 4
    }
   ],
   "source": [
    "# 4-Icerisinde ‘1’ ler olan, veri tipi float olan 10X10’luk bir matris olusturunuz.\n",
    "b=np.ones((10,10),dtype=\"float\")\n",
    "b"
   ]
  },
  {
   "cell_type": "code",
   "execution_count": 6,
   "metadata": {},
   "outputs": [
    {
     "output_type": "execute_result",
     "data": {
      "text/plain": "array([[9, 9, 9, 9, 9, 9, 9, 9, 9, 9],\n       [9, 9, 9, 9, 9, 9, 9, 9, 9, 9],\n       [9, 9, 9, 9, 9, 9, 9, 9, 9, 9],\n       [9, 9, 9, 9, 9, 9, 9, 9, 9, 9],\n       [9, 9, 9, 9, 9, 9, 9, 9, 9, 9],\n       [9, 9, 9, 9, 9, 9, 9, 9, 9, 9],\n       [9, 9, 9, 9, 9, 9, 9, 9, 9, 9],\n       [9, 9, 9, 9, 9, 9, 9, 9, 9, 9],\n       [9, 9, 9, 9, 9, 9, 9, 9, 9, 9],\n       [9, 9, 9, 9, 9, 9, 9, 9, 9, 9]], dtype=int32)"
     },
     "metadata": {},
     "execution_count": 6
    }
   ],
   "source": [
    "# 5-Icerisinde ‘9’ lar olan, veri tipi integer olan 10X10’luk bir matris olusturunuz.\n",
    "c=np.full((10,10),9,dtype=\"int32\")\n",
    "c"
   ]
  },
  {
   "cell_type": "code",
   "execution_count": 7,
   "metadata": {},
   "outputs": [
    {
     "output_type": "execute_result",
     "data": {
      "text/plain": "array([ 5,  8, 11, 14, 17, 20, 23])"
     },
     "metadata": {},
     "execution_count": 7
    }
   ],
   "source": [
    "# 6-5 ile 25 arasinda, 3’er 3’er atlayan tek boyutlu bir Array olusturunuz.\n",
    "d=np.arange(5,25,3)\n",
    "d"
   ]
  },
  {
   "cell_type": "code",
   "execution_count": 8,
   "metadata": {},
   "outputs": [
    {
     "output_type": "execute_result",
     "data": {
      "text/plain": "array([-1.        , -0.93103448, -0.86206897, -0.79310345, -0.72413793,\n       -0.65517241, -0.5862069 , -0.51724138, -0.44827586, -0.37931034,\n       -0.31034483, -0.24137931, -0.17241379, -0.10344828, -0.03448276,\n        0.03448276,  0.10344828,  0.17241379,  0.24137931,  0.31034483,\n        0.37931034,  0.44827586,  0.51724138,  0.5862069 ,  0.65517241,\n        0.72413793,  0.79310345,  0.86206897,  0.93103448,  1.        ])"
     },
     "metadata": {},
     "execution_count": 8
    }
   ],
   "source": [
    "# 7--1 ile 1 arasinda 30 adet Array olusturunuz.\n",
    "e=np.linspace(-1,1,30)\n",
    "e"
   ]
  },
  {
   "cell_type": "code",
   "execution_count": 9,
   "metadata": {},
   "outputs": [
    {
     "output_type": "execute_result",
     "data": {
      "text/plain": "array([[25,  8, 10,  0, 18,  8],\n       [18, 25, 11, 29, 27,  7],\n       [29,  9, 13, 16,  2, 27],\n       [28, 24,  9, 19, 12, 11],\n       [21, 20, 17, 28, 15, 26]])"
     },
     "metadata": {},
     "execution_count": 9
    }
   ],
   "source": [
    "# 8-0 ile 30 arasinda 5x6’lik bir matris olusturun.\n",
    "f=np.random.randint(0,30,(5,6))\n",
    "f"
   ]
  },
  {
   "cell_type": "code",
   "execution_count": 10,
   "metadata": {},
   "outputs": [
    {
     "output_type": "execute_result",
     "data": {
      "text/plain": "array([[1., 0., 0., 0., 0., 0., 0., 0., 0., 0.],\n       [0., 1., 0., 0., 0., 0., 0., 0., 0., 0.],\n       [0., 0., 1., 0., 0., 0., 0., 0., 0., 0.],\n       [0., 0., 0., 1., 0., 0., 0., 0., 0., 0.],\n       [0., 0., 0., 0., 1., 0., 0., 0., 0., 0.],\n       [0., 0., 0., 0., 0., 1., 0., 0., 0., 0.],\n       [0., 0., 0., 0., 0., 0., 1., 0., 0., 0.],\n       [0., 0., 0., 0., 0., 0., 0., 1., 0., 0.],\n       [0., 0., 0., 0., 0., 0., 0., 0., 1., 0.],\n       [0., 0., 0., 0., 0., 0., 0., 0., 0., 1.]])"
     },
     "metadata": {},
     "execution_count": 10
    }
   ],
   "source": [
    "# 9-Kosegenleri 1 olan 10x10’luk bir matris olusturunuz.\n",
    "g=np.eye(10)\n",
    "g"
   ]
  },
  {
   "cell_type": "code",
   "execution_count": 1,
   "metadata": {},
   "outputs": [
    {
     "output_type": "execute_result",
     "data": {
      "text/plain": "(50, 2, (5, 10), dtype('int64'))"
     },
     "metadata": {},
     "execution_count": 1
    }
   ],
   "source": [
    "# 10- 0 ile 10 arasinda 5x10’lik bir matris olusturun. (integer) ve bu matrisin;\n",
    "# \t•\teleman sayisini\n",
    "# \t•\tboyut bilgisini/sayisini\n",
    "# \t•\tsatir X sutun bilgisini\n",
    "# \t•\tveri tipini numpy metodlariyla yazdiriniz.\n",
    "import numpy as np\n",
    "h=np.random.randint(0,10,(5,10))\n",
    "h_eleman=h.size\n",
    "h_boyut=h.ndim\n",
    "h_ssbilgi=h.shape\n",
    "h_veritipi=h.dtype\n",
    "h_eleman,h_boyut,h_ssbilgi,h_veritipi"
   ]
  },
  {
   "cell_type": "code",
   "execution_count": 13,
   "metadata": {},
   "outputs": [
    {
     "output_type": "execute_result",
     "data": {
      "text/plain": "array([[[1, 9, 1, 9, 6, 7, 2],\n        [4, 1, 0, 3, 6, 5, 2],\n        [5, 0, 1, 0, 7, 0, 0],\n        [4, 1, 9, 7, 2, 3, 2]],\n\n       [[6, 5, 4, 2, 8, 0, 9],\n        [3, 7, 0, 8, 8, 1, 6],\n        [2, 6, 8, 5, 0, 5, 0],\n        [8, 3, 5, 8, 0, 7, 9]],\n\n       [[3, 6, 0, 4, 4, 8, 6],\n        [6, 5, 7, 9, 2, 7, 1],\n        [7, 4, 5, 4, 9, 2, 1],\n        [5, 9, 8, 2, 7, 9, 8]]])"
     },
     "metadata": {},
     "execution_count": 13
    }
   ],
   "source": [
    "# 11- 0 ile 10 arasindaki degerlerden olusan 3 adet 4x7’lik bir matris olusturunuz. (3 boyutlu bir matris olusturulacak)\n",
    "i= np.random.randint(0,10, size=(3,4,7))\n",
    "i"
   ]
  },
  {
   "cell_type": "code",
   "execution_count": 14,
   "metadata": {},
   "outputs": [
    {
     "output_type": "execute_result",
     "data": {
      "text/plain": "array([[ 1,  2,  3,  4],\n       [ 5,  6,  7,  8],\n       [ 9, 10, 11, 12]])"
     },
     "metadata": {},
     "execution_count": 14
    }
   ],
   "source": [
    "# 12-Bir vektor olusturunuz ve daha sonrasinda ayni vektoru bir matrise ceviriniz. (boyut sayisini degistirin.)\n",
    "vektor = np.arange(1,13)\n",
    "matris = vektor.reshape(3,4)\n",
    "matris"
   ]
  },
  {
   "cell_type": "code",
   "execution_count": 1,
   "metadata": {},
   "outputs": [
    {
     "output_type": "execute_result",
     "data": {
      "text/plain": "array([ 1,  2,  3,  4,  5,  6,  7,  8,  9,  0, -1, -2])"
     },
     "metadata": {},
     "execution_count": 1
    }
   ],
   "source": [
    "# 13- 4 tane ayri tek boyutlu array’i birlestirerek bir array olusturunuz.\n",
    "import numpy as np\n",
    "x=np.array([1,2,3])\n",
    "y=np.array([4,5,6])\n",
    "w=np.array([7,8,9])\n",
    "z=np.array([0,-1,-2])\n",
    "\n",
    "q=np.concatenate([x,y,w,z])\n",
    "q"
   ]
  },
  {
   "cell_type": "code",
   "execution_count": 11,
   "metadata": {},
   "outputs": [
    {
     "output_type": "execute_result",
     "data": {
      "text/plain": "array([[[2, 6, 2, 3],\n        [9, 7, 8, 3],\n        [3, 5, 6, 5]],\n\n       [[4, 6, 6, 3],\n        [5, 0, 6, 0],\n        [0, 3, 5, 4]]])"
     },
     "metadata": {},
     "execution_count": 11
    }
   ],
   "source": [
    "# 14-2 boyutlu bir vektor ve bir matris olusturun(ayri ayri), bu iki arrayi numpy metodlarini kullanarak sutun bazli birlestiriniz,\n",
    "v = np.random.randint(0,10, size=(2,1,4))\n",
    "m = np.random.randint(0,10, size=(2,2,4))\n",
    "vm = np.concatenate([v,m], axis=1)\n",
    "vm"
   ]
  },
  {
   "cell_type": "code",
   "execution_count": null,
   "metadata": {},
   "outputs": [],
   "source": [
    "# 15- Numpy da arraylari birlestirme islemleri concatenate() metodu ile yapilir. default axis=0 dir. Bu satir bazli birlestirme yapar. Yani alt alta dogru arrayleri birlestirilir. axis=1 ise sutun bazli birlestirme yapmak icin 2.arguman olarak kullanilir. Yani yana dogru arrayler birlestirilir."
   ]
  },
  {
   "cell_type": "code",
   "execution_count": 15,
   "metadata": {},
   "outputs": [
    {
     "output_type": "execute_result",
     "data": {
      "text/plain": "(array([[4, 5, 6],\n        [9, 9, 0],\n        [1, 2, 3]]),\n array([[1, 4, 5, 6],\n        [3, 9, 9, 0]]))"
     },
     "metadata": {},
     "execution_count": 15
    }
   ],
   "source": [
    "# 16- Farkli boyutlardaki arraylari satir ve sutun bazli ayri ayri birlestiriniz.\n",
    "a=np.array([1,2,3])\n",
    "b=np.array([[4,5,6],\n",
    "            [9,9,0]])\n",
    "ab=np.vstack([b,a]) \n",
    "\n",
    "k=np.array([[1],\n",
    "            [3]])\n",
    "l=np.array([[4,5,6],\n",
    "            [9,9,0]])\n",
    "kl=np.hstack([k,l]) \n",
    "ab, kl  "
   ]
  },
  {
   "cell_type": "code",
   "execution_count": 17,
   "metadata": {},
   "outputs": [
    {
     "output_type": "execute_result",
     "data": {
      "text/plain": "(array([1, 2]), array([3, 4, 5, 6]), array([7, 8]), array([9, 0]))"
     },
     "metadata": {},
     "execution_count": 17
    }
   ],
   "source": [
    "# 17- 10 elemanli bi liste olusturunuz ve bu listeyi Numpy metodlariyla bolerek(split) 4 ayri array olusturunuz.\n",
    "liste=[1,2,3,4,5,6,7,8,9,0]\n",
    "s=np.split(liste,[2,6,8]) # 3 yerden ayirldigim icin 4 farkli np array olusturdu\n",
    "a,b,c,d=s\n",
    "a, b, c, d"
   ]
  },
  {
   "cell_type": "code",
   "execution_count": 7,
   "metadata": {},
   "outputs": [
    {
     "output_type": "execute_result",
     "data": {
      "text/plain": "8"
     },
     "metadata": {},
     "execution_count": 7
    }
   ],
   "source": [
    "# 18- Random bir array olusturunuz ve bu arrayi buyukten kucuge dogru siralayiniz.Ve bu siralamadan sonra hangi elemanin hangi indexte oldugunu gosteren bir metod uygulayiniz.\n",
    "import numpy as np\n",
    "s=np.random.randint(0,10,8)\n",
    "n=np.sort(s)\n",
    "n[6]"
   ]
  },
  {
   "cell_type": "code",
   "execution_count": 10,
   "metadata": {},
   "outputs": [
    {
     "output_type": "execute_result",
     "data": {
      "text/plain": "(9, 7, 7)"
     },
     "metadata": {},
     "execution_count": 10
    }
   ],
   "source": [
    "# 19- 20 elemanli random bir vektor olusturunuz. Bu vektorun 3. 5. ve 7. elemanlarina ulasin.\n",
    "v=np.random.randint(0,10,20)\n",
    "v[2],v[4],v[6]"
   ]
  },
  {
   "cell_type": "code",
   "execution_count": 11,
   "metadata": {},
   "outputs": [],
   "source": [
    "# 20- 10 elemanli random bir vektor olusturunuz ve bu arrayin  4. elemanini farkli bir sayiyla degistiriniz.\n",
    "a=np.random.randint(0,100,10)\n",
    "a[5]=99"
   ]
  },
  {
   "cell_type": "code",
   "execution_count": null,
   "metadata": {},
   "outputs": [],
   "source": [
    "# 21-Bir kare matriste asal köşegen üzerindeki elemanların dışında kalan tüm elemanlar sıfır ise bu matrise “Diagonal Matrix” denir. “Trace Matrix” ise bu elemanlarin toplamina denir"
   ]
  },
  {
   "cell_type": "code",
   "execution_count": 36,
   "metadata": {},
   "outputs": [
    {
     "output_type": "execute_result",
     "data": {
      "text/plain": "((array([0, 1, 2, 3, 4]), array([0, 1, 2, 3, 4])), 1.0, 1.0, 1.0, 1.0, 1.0)"
     },
     "metadata": {},
     "execution_count": 36
    }
   ],
   "source": [
    "# 22- 5x5’lik Diagonal bir matris olusturunuz ve Diagonaline denk gelen indexlere ulasiniz.(ayri ayri)\n",
    "d=np.eye(5)\n",
    "np.where(d==1),d[0,0],d[1,1],d[2,2],d[3,3],d[4,4]"
   ]
  },
  {
   "cell_type": "code",
   "execution_count": 14,
   "metadata": {},
   "outputs": [
    {
     "output_type": "execute_result",
     "data": {
      "text/plain": "array([12, 13, 14, 15, 16, 17, 18, 19])"
     },
     "metadata": {},
     "execution_count": 14
    }
   ],
   "source": [
    "# 23-10 ile 20 arasinda bir vektor olusturunuz. Ve 3. indexten son indexe kadar olan degerleri yazdiriniz.\n",
    "v=np.arange(10,20)\n",
    "v[2:]"
   ]
  },
  {
   "cell_type": "code",
   "execution_count": 2,
   "metadata": {},
   "outputs": [
    {
     "output_type": "execute_result",
     "data": {
      "text/plain": "12"
     },
     "metadata": {},
     "execution_count": 2
    }
   ],
   "source": [
    "# 24 - 10X10 luk bir matris olusturunuz ve ;\n",
    "# 3.satir ve 5.sutuna ulasiniz.\n",
    "import numpy as np\n",
    "m=np.random.randint(0,20,(10,10))\n",
    "m[2,4]"
   ]
  },
  {
   "cell_type": "code",
   "execution_count": 5,
   "metadata": {},
   "outputs": [
    {
     "output_type": "execute_result",
     "data": {
      "text/plain": "array([19, 11, 12,  9, 16, 16, 18,  6, 18,  7])"
     },
     "metadata": {},
     "execution_count": 5
    }
   ],
   "source": [
    "#25- 5.sutunun tum satirlarina ulasiniz. araay=[bas:son satirlar , bas:son sutunlar]\n",
    "\t\n",
    "m[:,4]    "
   ]
  },
  {
   "cell_type": "code",
   "execution_count": 6,
   "metadata": {},
   "outputs": [
    {
     "output_type": "execute_result",
     "data": {
      "text/plain": "array([ 0, 13, 14,  3, 11, 16,  2,  5,  0, 18])"
     },
     "metadata": {},
     "execution_count": 6
    }
   ],
   "source": [
    "# 26- Tum sutunlarin 2.satirlarina ulasiniz.\n",
    "m[1, : ]"
   ]
  },
  {
   "cell_type": "code",
   "execution_count": 22,
   "metadata": {},
   "outputs": [
    {
     "output_type": "execute_result",
     "data": {
      "text/plain": "array([[   5,   14,   17,   18,   12,   13,    8,    9,   13,    5],\n       [  12,    1,   16,    6,    9,   13,    9,    8,    6,    9],\n       [   7,   14,    5,   14, 1986,   18,    0,    6,   12,   17],\n       [  13,   10,    5,   19,   16, 1986,    1,    6,    8,    4],\n       [  12,   14,   15,   14,   18,   15,    4,   13,    4,    2]])"
     },
     "metadata": {},
     "execution_count": 22
    }
   ],
   "source": [
    "# 27- tum sutunlarin 2 ile 7 arasindaki satirlarina ulasiniz.\n",
    "m[ 2:7 , : ]"
   ]
  },
  {
   "cell_type": "code",
   "execution_count": 21,
   "metadata": {},
   "outputs": [
    {
     "output_type": "execute_result",
     "data": {
      "text/plain": "array([[  18,   12,   13,    8],\n       [   6,    9,   13,    9],\n       [  14, 1986,   18,    0]])"
     },
     "metadata": {},
     "execution_count": 21
    }
   ],
   "source": [
    "# 28- satir indexi 2’den 5’e ve sutun indexi 3 den 7’ye kadar olan degerlere ulasiniz.\n",
    "m[2:5,3:7]"
   ]
  },
  {
   "cell_type": "code",
   "execution_count": 11,
   "metadata": {},
   "outputs": [
    {
     "output_type": "execute_result",
     "data": {
      "text/plain": "array([[13, 10,  5, 19],\n       [12, 14, 15, 14],\n       [18,  9,  5,  4],\n       [17, 13, 15,  0],\n       [19,  2,  2,  8]])"
     },
     "metadata": {},
     "execution_count": 11
    }
   ],
   "source": [
    "# 29- satir indexi 5’den en sona ve sutun indexi en bastan 4’e kadar olan degerlere ulasiniz.\n",
    "m[5: , :4]"
   ]
  },
  {
   "cell_type": "code",
   "execution_count": 14,
   "metadata": {},
   "outputs": [
    {
     "output_type": "execute_result",
     "data": {
      "text/plain": "array([[19,  6,  4],\n       [ 0, 13, 14],\n       [ 5, 14, 17],\n       [12,  1, 16],\n       [ 7, 14,  5],\n       [13, 10,  5],\n       [12, 14, 15],\n       [18,  9,  5],\n       [17, 13, 15],\n       [19,  2,  2]])"
     },
     "metadata": {},
     "execution_count": 14
    }
   ],
   "source": [
    "# 30- sutun indexi sadece 3, 6,9 olan kolonlarin(sutunlarin), tum satirlarina ulasiniz.\n",
    "m[:,:3]"
   ]
  },
  {
   "cell_type": "code",
   "execution_count": 20,
   "metadata": {},
   "outputs": [
    {
     "output_type": "execute_result",
     "data": {
      "text/plain": "array([[  19,    6,    4,   16,   19,   18,    3,    5,   17,    1],\n       [   0,   13,   14,    3,   11,   16,    2,    5,    0,   18],\n       [   5,   14,   17,   18,   12,   13,    8,    9,   13,    5],\n       [  12,    1,   16,    6,    9,   13,    9,    8,    6,    9],\n       [   7,   14,    5,   14, 1986,   18,    0,    6,   12,   17],\n       [  13,   10,    5,   19,   16, 1986,    1,    6,    8,    4],\n       [  12,   14,   15,   14,   18,   15,    4,   13,    4,    2],\n       [  18,    9,    5,    4,    6,   13,   19,    7,    7,    7],\n       [  17,   13,   15,    0,   18,   14,    1,   13,    7,   19],\n       [  19,    2,    2,    8,    7,   10,    1,    1,    9,    0]])"
     },
     "metadata": {},
     "execution_count": 20
    }
   ],
   "source": [
    "# 31- 5. indexli satir ve 5.indexli sutuna denk gelen degeri, dogum yilinizla degistiriniz. \n",
    "m[5,5]=1986\n"
   ]
  },
  {
   "cell_type": "code",
   "execution_count": 28,
   "metadata": {},
   "outputs": [
    {
     "output_type": "execute_result",
     "data": {
      "text/plain": "array([False, False, False, False, False,  True,  True,  True,  True,\n        True])"
     },
     "metadata": {},
     "execution_count": 28
    }
   ],
   "source": [
    "# 32 -0’dan 50’ye kadar 5’er 5’er atlayarak giden bir array olusturunuz(tek boyutlu) ve numpy metodlariyla asagidaki islemleri uygulayin;   20 den buyuk olan kac deger var.\n",
    "a=np.arange(0,50,5)\n",
    "np.greater(a,20)"
   ]
  },
  {
   "cell_type": "code",
   "execution_count": 29,
   "metadata": {},
   "outputs": [
    {
     "output_type": "execute_result",
     "data": {
      "text/plain": "array([ True,  True,  True,  True,  True,  True, False, False, False,\n       False])"
     },
     "metadata": {},
     "execution_count": 29
    }
   ],
   "source": [
    "# 33- \t30’dan kucuk kac deger var\n",
    "np.less(a,30)"
   ]
  },
  {
   "cell_type": "code",
   "execution_count": 30,
   "metadata": {},
   "outputs": [
    {
     "output_type": "execute_result",
     "data": {
      "text/plain": "array([False, False, False, False, False, False, False, False, False,\n       False])"
     },
     "metadata": {},
     "execution_count": 30
    }
   ],
   "source": [
    "# 34- \ticerisinde 33 gecen kac deger var\n",
    "np.equal(a,33)"
   ]
  },
  {
   "cell_type": "code",
   "execution_count": 31,
   "metadata": {},
   "outputs": [
    {
     "output_type": "execute_result",
     "data": {
      "text/plain": "array([  0,  25,  50,  75, 100, 125, 150, 175, 200, 225])"
     },
     "metadata": {},
     "execution_count": 31
    }
   ],
   "source": [
    "# 35- \tolusturulan arrayin tum elemanlarini 5 ile carpin.\n",
    "np.multiply(a,5)"
   ]
  },
  {
   "cell_type": "code",
   "execution_count": 32,
   "metadata": {},
   "outputs": [
    {
     "output_type": "execute_result",
     "data": {
      "text/plain": "array([0, 1, 0, 1, 0, 1, 0, 1, 0, 1])"
     },
     "metadata": {},
     "execution_count": 32
    }
   ],
   "source": [
    "# 36- olusturulan arrayin tum elemanlarinin 2 ile bolumunden kalanlari yazdiriniz.\n",
    "a%2"
   ]
  },
  {
   "cell_type": "code",
   "execution_count": 38,
   "metadata": {},
   "outputs": [
    {
     "output_type": "execute_result",
     "data": {
      "text/plain": "24.5"
     },
     "metadata": {},
     "execution_count": 38
    }
   ],
   "source": [
    "# 37- 0 ile 1 arasinda 50 elamanli bir array olusturunuz ve;\torlamasini aliniz.\n",
    "j=np.arange(0,50)\n",
    "np.mean(j)"
   ]
  },
  {
   "cell_type": "code",
   "execution_count": 37,
   "metadata": {},
   "outputs": [
    {
     "output_type": "execute_result",
     "data": {
      "text/plain": "14.430869689661812"
     },
     "metadata": {},
     "execution_count": 37
    }
   ],
   "source": [
    "# 38- standart sapmasini aliniz.\n",
    "np.std(j)"
   ]
  },
  {
   "cell_type": "code",
   "execution_count": 39,
   "metadata": {},
   "outputs": [
    {
     "output_type": "execute_result",
     "data": {
      "text/plain": "208.25"
     },
     "metadata": {},
     "execution_count": 39
    }
   ],
   "source": [
    "#39- \tvaryansini aliniz.\n",
    "np.var(j)"
   ]
  },
  {
   "cell_type": "code",
   "execution_count": 36,
   "metadata": {},
   "outputs": [
    {
     "output_type": "execute_result",
     "data": {
      "text/plain": "24.5"
     },
     "metadata": {},
     "execution_count": 36
    }
   ],
   "source": [
    "#40-\tmedian’ini aliniz.\n",
    "np.median(j)    "
   ]
  },
  {
   "cell_type": "code",
   "execution_count": 34,
   "metadata": {},
   "outputs": [
    {
     "output_type": "execute_result",
     "data": {
      "text/plain": "0"
     },
     "metadata": {},
     "execution_count": 34
    }
   ],
   "source": [
    "#41-\ten kucuk degeri bulunuz.\n",
    "np.min(j)\t"
   ]
  },
  {
   "cell_type": "code",
   "execution_count": 35,
   "metadata": {},
   "outputs": [
    {
     "output_type": "execute_result",
     "data": {
      "text/plain": "49"
     },
     "metadata": {},
     "execution_count": 35
    }
   ],
   "source": [
    "# 42-\ten buyuk degeri bulunuz.\n",
    "np.max(j)"
   ]
  }
 ]
}